{
 "cells": [
  {
   "cell_type": "code",
   "execution_count": 18,
   "source": [
    "import tqdm\n",
    "import torch\n",
    "import torchvision\n",
    "from torchvision import models, transforms\n",
    "\n",
    "from torch.utils.data import dataset, DataLoader\n",
    "import torch.nn as nn\n",
    "import torch.optim as optim\n",
    "\n",
    "import os\n",
    "%matplotlib inline\n",
    "import matplotlib.pyplot as plt\n",
    "import numpy as np\n",
    "import pandas as pd\n",
    "\n",
    "\n",
    "from PIL import Image\n",
    "df = pd.read_csv('/opt/ml/input/data/train/train.csv')\n",
    "df_dict = df.to_dict()\n",
    "\n",
    "classes = ['mask1','mask2','mask3','mask4','mask5','normal','incorrect_mask']\n",
    "\n",
    "df1 = pd.DataFrame({'id': sorted(list(df_dict['id'].values())*7),\n",
    "                    'gender' : sorted(list(df_dict['gender'].values())*7),\n",
    "                    'race' : sorted(list(df_dict['race'].values())*7),\n",
    "                    'age' : sorted(list(df_dict['age'].values())*7),\n",
    "                    'path' : sorted(list(df_dict['path'].values())*7),\n",
    "                    'mask' : classes*len(df)\n",
    "                    })\n",
    "\n",
    "\n",
    "save_path = '/opt/ml/input/data/train'\n",
    "df1.to_csv(os.path.join(save_path, 'train_new.csv'), index=False)\n",
    "\n",
    "df1['gender'].replace({'male':0, 'female':1}, inplace=True)\n",
    "df1.drop(columns=['race'], inplace= True)\n",
    "df1['id'] = df1['id'].astype('str')\n",
    "df1['path'] = df1['path'].astype('str')\n",
    "df1['mask'] = df1['mask'].astype('str')"
   ],
   "outputs": [],
   "metadata": {}
  },
  {
   "cell_type": "code",
   "execution_count": 19,
   "source": [
    "df1.info()"
   ],
   "outputs": [
    {
     "output_type": "stream",
     "name": "stdout",
     "text": [
      "<class 'pandas.core.frame.DataFrame'>\n",
      "RangeIndex: 18900 entries, 0 to 18899\n",
      "Data columns (total 5 columns):\n",
      " #   Column  Non-Null Count  Dtype \n",
      "---  ------  --------------  ----- \n",
      " 0   id      18900 non-null  object\n",
      " 1   gender  18900 non-null  int64 \n",
      " 2   age     18900 non-null  int64 \n",
      " 3   path    18900 non-null  object\n",
      " 4   mask    18900 non-null  object\n",
      "dtypes: int64(2), object(3)\n",
      "memory usage: 738.4+ KB\n"
     ]
    }
   ],
   "metadata": {}
  },
  {
   "cell_type": "code",
   "execution_count": 20,
   "source": [
    "df1.to_csv(os.path.join(save_path, 'train_new_cat.csv'), index=False)"
   ],
   "outputs": [],
   "metadata": {}
  }
 ],
 "metadata": {
  "orig_nbformat": 4,
  "language_info": {
   "name": "python",
   "version": "3.7.11",
   "mimetype": "text/x-python",
   "codemirror_mode": {
    "name": "ipython",
    "version": 3
   },
   "pygments_lexer": "ipython3",
   "nbconvert_exporter": "python",
   "file_extension": ".py"
  },
  "kernelspec": {
   "name": "python3",
   "display_name": "Python 3.9.6 64-bit ('myproject': conda)"
  },
  "interpreter": {
   "hash": "95a05da1dc478c34d05a19e76b3de2c5013142cc64fc6818d6ae3e210f2a8d1a"
  }
 },
 "nbformat": 4,
 "nbformat_minor": 2
}