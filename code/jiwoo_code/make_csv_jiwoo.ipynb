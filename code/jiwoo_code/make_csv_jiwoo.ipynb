{
 "cells": [
  {
   "cell_type": "code",
   "execution_count": 7,
   "source": [
    "import tqdm\n",
    "import torch\n",
    "import torchvision\n",
    "from torchvision import models, transforms\n",
    "\n",
    "from torch.utils.data import dataset, DataLoader\n",
    "import torch.nn as nn\n",
    "import torch.optim as optim\n",
    "\n",
    "import os\n",
    "%matplotlib inline\n",
    "import matplotlib.pyplot as plt\n",
    "import numpy as np\n",
    "import pandas as pd\n",
    "\n",
    "\n",
    "from PIL import Image\n",
    "df = pd.read_csv('/opt/ml/input/data/train/train.csv')\n",
    "df_dict = df.to_dict()\n",
    "\n",
    "classes = ['mask1','mask2','mask3','mask4','mask5','normal','incorrect_mask']\n",
    "\n",
    "df1 = pd.DataFrame({'id': sorted(list(df_dict['id'].values())*7),\n",
    "                    'gender' : sorted(list(df_dict['gender'].values())*7),\n",
    "                    'race' : sorted(list(df_dict['race'].values())*7),\n",
    "                    'age' : sorted(list(df_dict['age'].values())*7),\n",
    "                    'path' : sorted(list(df_dict['path'].values())*7),\n",
    "                    'mask' : classes*len(df)\n",
    "                    })\n",
    "\n",
    "\n",
    "save_path = '/opt/ml/input/data/train'\n",
    "df1.to_csv(os.path.join(save_path, 'train_new.csv'), index=False)\n",
    "\n",
    "df1['gender'].replace({'male':0, 'female':1}, inplace=True)\n",
    "df1.drop(columns=['race'], inplace= True)\n",
    "df1['id'] = df1['id'].astype('str')\n",
    "df1['path'] = df1['path'].astype('str')\n",
    "df1['mask'] = df1['mask'].astype('str')\n",
    "df1['mask_1'] = df1['mask']\n",
    "df1['mask_1'].replace({'normal':0, 'mask1':1, 'mask2':1, 'mask3':1,'mask4':1,'mask5':1, 'incorrect_mask':2}, inplace=True)"
   ],
   "outputs": [],
   "metadata": {}
  },
  {
   "cell_type": "code",
   "execution_count": 8,
   "source": [
    "df1.info()"
   ],
   "outputs": [
    {
     "output_type": "stream",
     "name": "stdout",
     "text": [
      "<class 'pandas.core.frame.DataFrame'>\n",
      "RangeIndex: 18900 entries, 0 to 18899\n",
      "Data columns (total 6 columns):\n",
      " #   Column  Non-Null Count  Dtype \n",
      "---  ------  --------------  ----- \n",
      " 0   id      18900 non-null  object\n",
      " 1   gender  18900 non-null  int64 \n",
      " 2   age     18900 non-null  int64 \n",
      " 3   path    18900 non-null  object\n",
      " 4   mask    18900 non-null  object\n",
      " 5   mask_1  18900 non-null  int64 \n",
      "dtypes: int64(3), object(3)\n",
      "memory usage: 886.1+ KB\n"
     ]
    }
   ],
   "metadata": {}
  },
  {
   "cell_type": "code",
   "execution_count": 9,
   "source": [
    "df1.head(7)"
   ],
   "outputs": [
    {
     "output_type": "execute_result",
     "data": {
      "text/plain": [
       "       id  gender  age                    path            mask  mask_1\n",
       "0  000001       1   18  000001_female_Asian_45           mask1       1\n",
       "1  000001       1   18  000001_female_Asian_45           mask2       1\n",
       "2  000001       1   18  000001_female_Asian_45           mask3       1\n",
       "3  000001       1   18  000001_female_Asian_45           mask4       1\n",
       "4  000001       1   18  000001_female_Asian_45           mask5       1\n",
       "5  000001       1   18  000001_female_Asian_45          normal       0\n",
       "6  000001       1   18  000001_female_Asian_45  incorrect_mask       2"
      ],
      "text/html": [
       "<div>\n",
       "<style scoped>\n",
       "    .dataframe tbody tr th:only-of-type {\n",
       "        vertical-align: middle;\n",
       "    }\n",
       "\n",
       "    .dataframe tbody tr th {\n",
       "        vertical-align: top;\n",
       "    }\n",
       "\n",
       "    .dataframe thead th {\n",
       "        text-align: right;\n",
       "    }\n",
       "</style>\n",
       "<table border=\"1\" class=\"dataframe\">\n",
       "  <thead>\n",
       "    <tr style=\"text-align: right;\">\n",
       "      <th></th>\n",
       "      <th>id</th>\n",
       "      <th>gender</th>\n",
       "      <th>age</th>\n",
       "      <th>path</th>\n",
       "      <th>mask</th>\n",
       "      <th>mask_1</th>\n",
       "    </tr>\n",
       "  </thead>\n",
       "  <tbody>\n",
       "    <tr>\n",
       "      <th>0</th>\n",
       "      <td>000001</td>\n",
       "      <td>1</td>\n",
       "      <td>18</td>\n",
       "      <td>000001_female_Asian_45</td>\n",
       "      <td>mask1</td>\n",
       "      <td>1</td>\n",
       "    </tr>\n",
       "    <tr>\n",
       "      <th>1</th>\n",
       "      <td>000001</td>\n",
       "      <td>1</td>\n",
       "      <td>18</td>\n",
       "      <td>000001_female_Asian_45</td>\n",
       "      <td>mask2</td>\n",
       "      <td>1</td>\n",
       "    </tr>\n",
       "    <tr>\n",
       "      <th>2</th>\n",
       "      <td>000001</td>\n",
       "      <td>1</td>\n",
       "      <td>18</td>\n",
       "      <td>000001_female_Asian_45</td>\n",
       "      <td>mask3</td>\n",
       "      <td>1</td>\n",
       "    </tr>\n",
       "    <tr>\n",
       "      <th>3</th>\n",
       "      <td>000001</td>\n",
       "      <td>1</td>\n",
       "      <td>18</td>\n",
       "      <td>000001_female_Asian_45</td>\n",
       "      <td>mask4</td>\n",
       "      <td>1</td>\n",
       "    </tr>\n",
       "    <tr>\n",
       "      <th>4</th>\n",
       "      <td>000001</td>\n",
       "      <td>1</td>\n",
       "      <td>18</td>\n",
       "      <td>000001_female_Asian_45</td>\n",
       "      <td>mask5</td>\n",
       "      <td>1</td>\n",
       "    </tr>\n",
       "    <tr>\n",
       "      <th>5</th>\n",
       "      <td>000001</td>\n",
       "      <td>1</td>\n",
       "      <td>18</td>\n",
       "      <td>000001_female_Asian_45</td>\n",
       "      <td>normal</td>\n",
       "      <td>0</td>\n",
       "    </tr>\n",
       "    <tr>\n",
       "      <th>6</th>\n",
       "      <td>000001</td>\n",
       "      <td>1</td>\n",
       "      <td>18</td>\n",
       "      <td>000001_female_Asian_45</td>\n",
       "      <td>incorrect_mask</td>\n",
       "      <td>2</td>\n",
       "    </tr>\n",
       "  </tbody>\n",
       "</table>\n",
       "</div>"
      ]
     },
     "metadata": {},
     "execution_count": 9
    }
   ],
   "metadata": {}
  },
  {
   "cell_type": "code",
   "execution_count": 10,
   "source": [
    "df1.to_csv(os.path.join(save_path, 'train_new_cat.csv'), index=False)"
   ],
   "outputs": [],
   "metadata": {}
  },
  {
   "cell_type": "code",
   "execution_count": null,
   "source": [],
   "outputs": [],
   "metadata": {}
  }
 ],
 "metadata": {
  "orig_nbformat": 4,
  "language_info": {
   "name": "python",
   "version": "3.7.11",
   "mimetype": "text/x-python",
   "codemirror_mode": {
    "name": "ipython",
    "version": 3
   },
   "pygments_lexer": "ipython3",
   "nbconvert_exporter": "python",
   "file_extension": ".py"
  },
  "kernelspec": {
   "name": "python3",
   "display_name": "Python 3.9.6 64-bit ('myproject': conda)"
  },
  "interpreter": {
   "hash": "95a05da1dc478c34d05a19e76b3de2c5013142cc64fc6818d6ae3e210f2a8d1a"
  }
 },
 "nbformat": 4,
 "nbformat_minor": 2
}