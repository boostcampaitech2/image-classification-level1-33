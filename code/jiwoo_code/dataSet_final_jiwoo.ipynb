{
 "cells": [
  {
   "cell_type": "code",
   "execution_count": 21,
   "source": [
    "import os\n",
    "import sys\n",
    "import gzip\n",
    "import random\n",
    "import platform\n",
    "import warnings\n",
    "import collections\n",
    "from tqdm import tqdm, tqdm_notebook"
   ],
   "outputs": [],
   "metadata": {}
  },
  {
   "cell_type": "code",
   "execution_count": 22,
   "source": [
    "import re\n",
    "import requests\n",
    "import pandas as pd\n",
    "from PIL import Image\n",
    "import matplotlib.pyplot as plt\n",
    "import numpy as np"
   ],
   "outputs": [],
   "metadata": {}
  },
  {
   "cell_type": "code",
   "execution_count": 23,
   "source": [
    "import torch\n",
    "import torchvision\n",
    "import torch.nn as nn\n",
    "import torch.optim as optim\n",
    "import torch.nn.functional as F\n",
    "from torchvision import transforms, utils\n",
    "from torchvision.io import read_image"
   ],
   "outputs": [],
   "metadata": {}
  },
  {
   "cell_type": "code",
   "execution_count": 24,
   "source": [
    "from torch.utils.data import Dataset, DataLoader, random_split, SubsetRandomSampler, WeightedRandomSampler"
   ],
   "outputs": [],
   "metadata": {}
  },
  {
   "cell_type": "code",
   "execution_count": 25,
   "source": [
    "# 현재 OS 및 라이브러리 버전 체크 체크\n",
    "current_os = platform.system()\n",
    "print(f\"Current OS: {current_os}\")\n",
    "print(f\"CUDA: {torch.cuda.is_available()}\")\n",
    "print(f\"Python Version: {platform.python_version()}\")\n",
    "print(f\"torch Version: {torch.__version__}\")\n",
    "print(f\"torchvision Version: {torchvision.__version__}\")"
   ],
   "outputs": [
    {
     "output_type": "stream",
     "name": "stdout",
     "text": [
      "Current OS: Linux\n",
      "CUDA: True\n",
      "Python Version: 3.7.11\n",
      "torch Version: 1.7.1\n",
      "torchvision Version: 0.8.2\n"
     ]
    }
   ],
   "metadata": {}
  },
  {
   "cell_type": "code",
   "execution_count": 26,
   "source": [
    "# 테스트 데이터셋 폴더 경로를 지정해주세요.\n",
    "test_dir = '/opt/ml/input/data/train'"
   ],
   "outputs": [],
   "metadata": {}
  },
  {
   "cell_type": "code",
   "execution_count": 27,
   "source": [
    "# meta 데이터와 이미지 경로를 불러옵니다.\n",
    "TRAIN_MY_PATH = {\n",
    "    'trainCsv' : os.path.join(test_dir, 'train_new_cat.csv'),\n",
    "    'image' : os.path.join(test_dir, 'images')\n",
    "}"
   ],
   "outputs": [],
   "metadata": {}
  },
  {
   "cell_type": "code",
   "execution_count": 28,
   "source": [
    "df = pd.read_csv(TRAIN_MY_PATH['trainCsv'])\n",
    "df.head(7)"
   ],
   "outputs": [
    {
     "output_type": "execute_result",
     "data": {
      "text/plain": [
       "       id  gender  age                    path            mask  mask_1\n",
       "0  000001       1   18  000001_female_Asian_45           mask1       1\n",
       "1  000001       1   18  000001_female_Asian_45           mask2       1\n",
       "2  000001       1   18  000001_female_Asian_45           mask3       1\n",
       "3  000001       1   18  000001_female_Asian_45           mask4       1\n",
       "4  000001       1   18  000001_female_Asian_45           mask5       1\n",
       "5  000001       1   18  000001_female_Asian_45          normal       0\n",
       "6  000001       1   18  000001_female_Asian_45  incorrect_mask       2"
      ],
      "text/html": [
       "<div>\n",
       "<style scoped>\n",
       "    .dataframe tbody tr th:only-of-type {\n",
       "        vertical-align: middle;\n",
       "    }\n",
       "\n",
       "    .dataframe tbody tr th {\n",
       "        vertical-align: top;\n",
       "    }\n",
       "\n",
       "    .dataframe thead th {\n",
       "        text-align: right;\n",
       "    }\n",
       "</style>\n",
       "<table border=\"1\" class=\"dataframe\">\n",
       "  <thead>\n",
       "    <tr style=\"text-align: right;\">\n",
       "      <th></th>\n",
       "      <th>id</th>\n",
       "      <th>gender</th>\n",
       "      <th>age</th>\n",
       "      <th>path</th>\n",
       "      <th>mask</th>\n",
       "      <th>mask_1</th>\n",
       "    </tr>\n",
       "  </thead>\n",
       "  <tbody>\n",
       "    <tr>\n",
       "      <th>0</th>\n",
       "      <td>000001</td>\n",
       "      <td>1</td>\n",
       "      <td>18</td>\n",
       "      <td>000001_female_Asian_45</td>\n",
       "      <td>mask1</td>\n",
       "      <td>1</td>\n",
       "    </tr>\n",
       "    <tr>\n",
       "      <th>1</th>\n",
       "      <td>000001</td>\n",
       "      <td>1</td>\n",
       "      <td>18</td>\n",
       "      <td>000001_female_Asian_45</td>\n",
       "      <td>mask2</td>\n",
       "      <td>1</td>\n",
       "    </tr>\n",
       "    <tr>\n",
       "      <th>2</th>\n",
       "      <td>000001</td>\n",
       "      <td>1</td>\n",
       "      <td>18</td>\n",
       "      <td>000001_female_Asian_45</td>\n",
       "      <td>mask3</td>\n",
       "      <td>1</td>\n",
       "    </tr>\n",
       "    <tr>\n",
       "      <th>3</th>\n",
       "      <td>000001</td>\n",
       "      <td>1</td>\n",
       "      <td>18</td>\n",
       "      <td>000001_female_Asian_45</td>\n",
       "      <td>mask4</td>\n",
       "      <td>1</td>\n",
       "    </tr>\n",
       "    <tr>\n",
       "      <th>4</th>\n",
       "      <td>000001</td>\n",
       "      <td>1</td>\n",
       "      <td>18</td>\n",
       "      <td>000001_female_Asian_45</td>\n",
       "      <td>mask5</td>\n",
       "      <td>1</td>\n",
       "    </tr>\n",
       "    <tr>\n",
       "      <th>5</th>\n",
       "      <td>000001</td>\n",
       "      <td>1</td>\n",
       "      <td>18</td>\n",
       "      <td>000001_female_Asian_45</td>\n",
       "      <td>normal</td>\n",
       "      <td>0</td>\n",
       "    </tr>\n",
       "    <tr>\n",
       "      <th>6</th>\n",
       "      <td>000001</td>\n",
       "      <td>1</td>\n",
       "      <td>18</td>\n",
       "      <td>000001_female_Asian_45</td>\n",
       "      <td>incorrect_mask</td>\n",
       "      <td>2</td>\n",
       "    </tr>\n",
       "  </tbody>\n",
       "</table>\n",
       "</div>"
      ]
     },
     "metadata": {},
     "execution_count": 28
    }
   ],
   "metadata": {}
  },
  {
   "cell_type": "code",
   "execution_count": 48,
   "source": [
    "class MyTrainDataset(Dataset) :\n",
    "    def __init__(self, path, transform, category, train=True):\n",
    "        # 데이터와 경로 이미지 받아오기\n",
    "        self.img_data = pd.read_csv(path['trainCsv'])\n",
    "        self.img_dir = path['image']\n",
    "        cat_idx = {'gender':1, 'age':2, 'mask':4}\n",
    "        self.category = cat_idx[category]\n",
    "\n",
    "        # 라벨 리스트\n",
    "        self.label = [self.img_data['gender'],\n",
    "                     self.img_data['age'],\n",
    "                     self.img_data['mask']]\n",
    "        \n",
    "        self.label = pd.DataFrame(self.label)\n",
    "        \n",
    "        # 각 feature별 클래스 생성\n",
    "        self.gen_classes = ['male', 'female']\n",
    "        self.age_classes = [str(i) for i in range(18,61)]\n",
    "        self.mask_classes = ['incorrect_mask', 'mask1', 'mask2', 'mask3', 'mask4', 'mask5', 'normal']\n",
    "        \n",
    "        # dataloader 특성 받기\n",
    "        self.train = train\n",
    "        self.transform = transform\n",
    "        self.path = path\n",
    "        self._repr_indent = 4\n",
    "        \n",
    "    def __len__(self) :\n",
    "        return len(self.img_data)\n",
    "    \n",
    "    def __getitem__(self, idx) :\n",
    "        # 이미지 경로 받아서 입력\n",
    "        person_path = os.path.join(self.img_dir, self.img_data.iloc[idx,3]) # person \n",
    "        img_path = os.path.join(person_path, self.img_data.iloc[idx,4]+'.jpg') # person + mask + .jpg\n",
    "        image = Image.open(img_path)\n",
    "        \n",
    "        # 이미지에 transform이 있다면 실행\n",
    "        if self.transform :\n",
    "            image = self.transform(image)\n",
    "        \n",
    "        # 라벨 입력 \n",
    "        if self.category != '4':\n",
    "            label = self.img_data.iloc[idx, self.category]\n",
    "        else:\n",
    "            label = self.img_data.iloc[idx, self.category+1]\n",
    "        label = torch.tensor(label)\n",
    "        return image, label\n",
    "    \n",
    "    def __repr__(self):\n",
    "        '''\n",
    "        https://github.com/pytorch/vision/blob/master/torchvision/datasets/vision.py\n",
    "        '''\n",
    "        head = \"(Inform) My Custom Dataset\"\n",
    "        data_path = self._repr_indent*\" \" + \"Data path: {}\".format(self.path['image'])\n",
    "        label_path = self._repr_indent*\" \" + \"Label path: {}\".format(self.path['trainCsv'])\n",
    "        num_data = self._repr_indent*\" \" + \"Number of datapoints: {}\".format(self.__len__())\n",
    "        num_classes = self._repr_indent*\" \" + \"Number of gender classes: {}\".format(len(self.gen_classes))\n",
    "\n",
    "        return '\\n'.join([head,\n",
    "                          data_path, label_path, \n",
    "                          num_data, num_classes])"
   ],
   "outputs": [],
   "metadata": {}
  },
  {
   "cell_type": "code",
   "execution_count": 49,
   "source": [
    "dataset_train_My = MyTrainDataset(path = TRAIN_MY_PATH,\n",
    "                                  transform = transforms.ToTensor(),\n",
    "                                  category = 'gender',\n",
    "                                  train = True)"
   ],
   "outputs": [],
   "metadata": {}
  },
  {
   "cell_type": "code",
   "execution_count": 46,
   "source": [
    "dataset_train_My"
   ],
   "outputs": [
    {
     "output_type": "execute_result",
     "data": {
      "text/plain": [
       "(Inform) My Custom Dataset\n",
       "    Data path: /opt/ml/input/data/train/images\n",
       "    Label path: /opt/ml/input/data/train/train_new_cat.csv\n",
       "    Number of datapoints: 18900\n",
       "    Number of gender classes: 2"
      ]
     },
     "metadata": {},
     "execution_count": 46
    }
   ],
   "metadata": {}
  },
  {
   "cell_type": "code",
   "execution_count": 52,
   "source": [
    "image, label = next(iter(dataset_train_My))\n",
    "image.shape, label"
   ],
   "outputs": [
    {
     "output_type": "execute_result",
     "data": {
      "text/plain": [
       "(torch.Size([3, 512, 384]), tensor(1))"
      ]
     },
     "metadata": {},
     "execution_count": 52
    }
   ],
   "metadata": {}
  },
  {
   "cell_type": "code",
   "execution_count": null,
   "source": [
    "train_loader = DataLoader()"
   ],
   "outputs": [],
   "metadata": {}
  }
 ],
 "metadata": {
  "kernelspec": {
   "name": "python3",
   "display_name": "Python 3.9.6 64-bit ('myproject': conda)"
  },
  "language_info": {
   "name": "python",
   "version": "3.7.11",
   "mimetype": "text/x-python",
   "codemirror_mode": {
    "name": "ipython",
    "version": 3
   },
   "pygments_lexer": "ipython3",
   "nbconvert_exporter": "python",
   "file_extension": ".py"
  },
  "interpreter": {
   "hash": "95a05da1dc478c34d05a19e76b3de2c5013142cc64fc6818d6ae3e210f2a8d1a"
  }
 },
 "nbformat": 4,
 "nbformat_minor": 5
}