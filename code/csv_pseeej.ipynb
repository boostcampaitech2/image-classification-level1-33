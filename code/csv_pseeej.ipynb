{
 "cells": [
  {
   "cell_type": "code",
   "execution_count": 1,
   "metadata": {},
   "outputs": [],
   "source": [
    "import tqdm\n",
    "import torch\n",
    "import torchvision\n",
    "from torchvision import models, transforms"
   ]
  },
  {
   "cell_type": "code",
   "execution_count": 2,
   "metadata": {},
   "outputs": [],
   "source": [
    "from torch.utils.data import dataset, DataLoader\n",
    "import torch.nn as nn\n",
    "import torch.optim as optim"
   ]
  },
  {
   "cell_type": "code",
   "execution_count": 3,
   "metadata": {},
   "outputs": [],
   "source": [
    "import os\n",
    "import matplotlib.pyplot as plt\n",
    "import numpy as np\n",
    "import pandas as pd\n",
    "from PIL import Image"
   ]
  },
  {
   "cell_type": "code",
   "execution_count": 4,
   "metadata": {},
   "outputs": [],
   "source": [
    "%matplotlib inline"
   ]
  },
  {
   "cell_type": "code",
   "execution_count": 5,
   "metadata": {},
   "outputs": [],
   "source": [
    "df = pd.read_csv('../input/data/train/train.csv')\n",
    "df_dict = df.to_dict()"
   ]
  },
  {
   "cell_type": "code",
   "execution_count": 6,
   "metadata": {},
   "outputs": [],
   "source": [
    "classes = ['mask1', 'mask2', 'mask3', 'mask4', 'mask5', 'normal', 'incorrect_mask']"
   ]
  },
  {
   "cell_type": "code",
   "execution_count": 7,
   "metadata": {},
   "outputs": [],
   "source": [
    "df1 = df"
   ]
  },
  {
   "cell_type": "code",
   "execution_count": 8,
   "metadata": {},
   "outputs": [],
   "source": [
    "ids = []\n",
    "genders = []\n",
    "races = []\n",
    "ages = []\n",
    "paths = []\n",
    "\n",
    "for id_ in df_dict['id'].values():\n",
    "    for _ in range(7):\n",
    "        ids.append(id_)\n",
    "        \n",
    "for gender_ in df_dict['gender'].values():\n",
    "    for _ in range(7):\n",
    "        genders.append(gender_)\n",
    "\n",
    "for race_ in df_dict['race'].values():\n",
    "    for _ in range(7):\n",
    "        races.append(race_)\n",
    "\n",
    "for age_ in df_dict['age'].values():\n",
    "    for _ in range(7):\n",
    "        ages.append(age_)\n",
    "\n",
    "for path_ in df_dict['path'].values():\n",
    "    for _ in range(7):\n",
    "        paths.append(path_)\n",
    "\n",
    "masks = []\n",
    "for _ in range(len(df_dict['id'])):\n",
    "    for mask in classes:\n",
    "        masks.append(mask)"
   ]
  },
  {
   "cell_type": "code",
   "execution_count": 9,
   "metadata": {},
   "outputs": [],
   "source": [
    "data = {'id' : ids, 'gender' : genders, 'race' : races, 'age' : ages, 'path' : paths, 'mask' : masks}\n",
    "\n",
    "df1 = pd.DataFrame(data)"
   ]
  },
  {
   "cell_type": "code",
   "execution_count": 10,
   "metadata": {},
   "outputs": [],
   "source": [
    "save_path = '../input/data/train'\n",
    "df1.to_csv(os.path.join(save_path, 'train_new.csv'), index=False)"
   ]
  },
  {
   "cell_type": "code",
   "execution_count": 11,
   "metadata": {},
   "outputs": [],
   "source": [
    "df1['gender'].replace({'male':0, 'female':1}, inplace=True)\n",
    "df1.drop(columns=['race'], inplace=True)\n",
    "df1['id'] = df1['id'].astype('str')\n",
    "df1['path'] = df1['path'].astype('str')"
   ]
  },
  {
   "cell_type": "code",
   "execution_count": 12,
   "metadata": {},
   "outputs": [],
   "source": [
    "df1['mask'].replace({'incorrect_mask':1, 'normal':2}, inplace = True)\n",
    "df1['mask'].replace({'mask1':0, 'mask2':0, 'mask3':0, 'mask4':0, 'mask5':0}, inplace=True)"
   ]
  },
  {
   "cell_type": "code",
   "execution_count": 13,
   "metadata": {},
   "outputs": [],
   "source": [
    "df1.loc[df1['age'] < 30, 'age'] = 0\n",
    "df1.loc[df1['age'] >= 60, 'age'] = 2\n",
    "df1.loc[df1['age'] > 2, 'age'] = 1"
   ]
  },
  {
   "cell_type": "code",
   "execution_count": 14,
   "metadata": {},
   "outputs": [],
   "source": [
    "res = df1['mask'] * 6 + df1['gender'] * 3 + df1['age']\n",
    "df1['class'] = res"
   ]
  },
  {
   "cell_type": "code",
   "execution_count": 15,
   "metadata": {},
   "outputs": [
    {
     "name": "stdout",
     "output_type": "stream",
     "text": [
      "<class 'pandas.core.frame.DataFrame'>\n",
      "RangeIndex: 18900 entries, 0 to 18899\n",
      "Data columns (total 6 columns):\n",
      " #   Column  Non-Null Count  Dtype \n",
      "---  ------  --------------  ----- \n",
      " 0   id      18900 non-null  object\n",
      " 1   gender  18900 non-null  int64 \n",
      " 2   age     18900 non-null  int64 \n",
      " 3   path    18900 non-null  object\n",
      " 4   mask    18900 non-null  int64 \n",
      " 5   class   18900 non-null  int64 \n",
      "dtypes: int64(4), object(2)\n",
      "memory usage: 886.1+ KB\n"
     ]
    }
   ],
   "source": [
    "df1.info()"
   ]
  },
  {
   "cell_type": "code",
   "execution_count": 16,
   "metadata": {},
   "outputs": [],
   "source": [
    "df1.to_csv(os.path.join(save_path, 'train_class.csv'), index=False)"
   ]
  }
 ],
 "metadata": {
  "interpreter": {
   "hash": "98b0a9b7b4eaaa670588a142fd0a9b87eaafe866f1db4228be72b4211d12040f"
  },
  "kernelspec": {
   "display_name": "Python 3 (ipykernel)",
   "language": "python",
   "name": "python3"
  },
  "language_info": {
   "codemirror_mode": {
    "name": "ipython",
    "version": 3
   },
   "file_extension": ".py",
   "mimetype": "text/x-python",
   "name": "python",
   "nbconvert_exporter": "python",
   "pygments_lexer": "ipython3",
   "version": "3.8.5"
  }
 },
 "nbformat": 4,
 "nbformat_minor": 4
}
