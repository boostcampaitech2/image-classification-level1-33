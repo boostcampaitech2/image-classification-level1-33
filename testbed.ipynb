{
 "cells": [
  {
   "cell_type": "code",
   "execution_count": null,
   "source": [
    "# mask / gender / age\r\n",
    "\r\n",
    "# 0 ~ 17"
   ],
   "outputs": [],
   "metadata": {}
  },
  {
   "cell_type": "code",
   "execution_count": 21,
   "source": [
    "import numpy as np\r\n",
    "\r\n",
    "label = np.zeros((3, 2, 3))\r\n",
    "label[0, 1, 2] = 1\r\n",
    "np.where(label.flatten() == 1)[0][0]"
   ],
   "outputs": [
    {
     "output_type": "execute_result",
     "data": {
      "text/plain": [
       "5"
      ]
     },
     "metadata": {},
     "execution_count": 21
    }
   ],
   "metadata": {}
  },
  {
   "cell_type": "code",
   "execution_count": 19,
   "source": [
    "for i in (0, 1):\r\n",
    "    for j in (0, 1, 2):\r\n",
    "        for k in (0, 1, 2):\r\n",
    "            label = np.zeros((2, 3, 3))\r\n",
    "            label[i, j, k] = 1\r\n",
    "\r\n",
    "            print(np.where(label.flatten() == 1)[0][0])"
   ],
   "outputs": [
    {
     "output_type": "stream",
     "name": "stdout",
     "text": [
      "0\n",
      "1\n",
      "2\n",
      "3\n",
      "4\n",
      "5\n",
      "6\n",
      "7\n",
      "8\n",
      "9\n",
      "10\n",
      "11\n",
      "12\n",
      "13\n",
      "14\n",
      "15\n",
      "16\n",
      "17\n"
     ]
    }
   ],
   "metadata": {}
  },
  {
   "cell_type": "code",
   "execution_count": null,
   "source": [],
   "outputs": [],
   "metadata": {}
  }
 ],
 "metadata": {
  "orig_nbformat": 4,
  "language_info": {
   "name": "python",
   "version": "3.8.8",
   "mimetype": "text/x-python",
   "codemirror_mode": {
    "name": "ipython",
    "version": 3
   },
   "pygments_lexer": "ipython3",
   "nbconvert_exporter": "python",
   "file_extension": ".py"
  },
  "kernelspec": {
   "name": "python3",
   "display_name": "Python 3.8.8 64-bit ('cnn': conda)"
  },
  "interpreter": {
   "hash": "4e493d10c71ebc021ed9e75712abdf5e5c3bd28d787d345c4a1198b5023a30bb"
  }
 },
 "nbformat": 4,
 "nbformat_minor": 2
}